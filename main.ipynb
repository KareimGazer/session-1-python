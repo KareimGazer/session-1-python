{
 "cells": [
  {
   "cell_type": "markdown",
   "metadata": {},
   "source": [
    "# Python Variables\n",
    "\n",
    "variable names\n",
    "- are case sensitive\n",
    "- must start with a letter or an underscore\n",
    "- cannot start with a number\n",
    "- can only contain alpha numeric characters and underscores\n",
    "- are a way to refer to data values\n",
    "\n",
    "some words are reserved keywords for the python language and cannot be used as variable names\n",
    "meaning they are reserved for special use by the python language.\n",
    "\n",
    "A variable is a connection between a name in the code and some data in memory."
   ]
  },
  {
   "cell_type": "markdown",
   "metadata": {},
   "source": [
    "The reason we call it a variable is because it is able to vary. \n",
    "We can first say that this name refers to some data in one place in memory, \n",
    "but then later in our program we could change it so that the same name refers to some other data in a different location."
   ]
  },
  {
   "cell_type": "code",
   "execution_count": 2,
   "metadata": {},
   "outputs": [
    {
     "name": "stdout",
     "output_type": "stream",
     "text": [
      "10\n"
     ]
    }
   ],
   "source": [
    "x = 10\n",
    "print(x)"
   ]
  },
  {
   "cell_type": "code",
   "execution_count": 3,
   "metadata": {},
   "outputs": [
    {
     "name": "stdout",
     "output_type": "stream",
     "text": [
      "hello\n"
     ]
    }
   ],
   "source": [
    "x = \"hello\"\n",
    "print(x)"
   ]
  },
  {
   "cell_type": "markdown",
   "metadata": {},
   "source": [
    "that make python what is called a dynamically typed language\n",
    "this means the type of the variable can be changed during the execution of the program (runtime)\n",
    "the type of the variable is determined by the value assigned to it"
   ]
  },
  {
   "cell_type": "code",
   "execution_count": 4,
   "metadata": {},
   "outputs": [
    {
     "name": "stdout",
     "output_type": "stream",
     "text": [
      "hello\n"
     ]
    }
   ],
   "source": [
    "x = 10\n",
    "x = \"hello\"\n",
    "print(x)"
   ]
  },
  {
   "cell_type": "markdown",
   "metadata": {},
   "source": [
    "there are other data types in python\n",
    "for example\n",
    "- `x = 10` int data type\n",
    "- `x = \"hello\"` str data type\n",
    "- `x = 10.5` float data type\n",
    "- `x = True` bool data type\n",
    "- `x = None` None data type - no value\n",
    "\n",
    "any other type of value not listed in these previous examples is a user defined data type (class)\n",
    "meaning that it is a custom data type that we can define and use, and each value of that type is called an instance (object) of that class"
   ]
  },
  {
   "cell_type": "markdown",
   "metadata": {},
   "source": [
    "spacing in python is important and is used to separate code into different blocks of code (groups of statements) as we will see in loops and if statements"
   ]
  },
  {
   "cell_type": "markdown",
   "metadata": {},
   "source": [
    "## Integer Values - int data type"
   ]
  },
  {
   "cell_type": "code",
   "execution_count": 6,
   "metadata": {},
   "outputs": [
    {
     "name": "stdout",
     "output_type": "stream",
     "text": [
      "6\n"
     ]
    }
   ],
   "source": [
    "number = 3\n",
    "double_the_number = number * 2\n",
    "print(double_the_number)"
   ]
  },
  {
   "cell_type": "code",
   "execution_count": 7,
   "metadata": {},
   "outputs": [
    {
     "name": "stdout",
     "output_type": "stream",
     "text": [
      "18\n"
     ]
    }
   ],
   "source": [
    "number = number + 15\n",
    "print(number)"
   ]
  },
  {
   "cell_type": "code",
   "execution_count": 8,
   "metadata": {},
   "outputs": [
    {
     "name": "stdout",
     "output_type": "stream",
     "text": [
      "19\n"
     ]
    }
   ],
   "source": [
    "\n",
    "number += 1\n",
    "print(number)"
   ]
  },
  {
   "cell_type": "code",
   "execution_count": 9,
   "metadata": {},
   "outputs": [
    {
     "name": "stdout",
     "output_type": "stream",
     "text": [
      "38\n"
     ]
    }
   ],
   "source": [
    "number *= 2\n",
    "print(number)"
   ]
  },
  {
   "cell_type": "markdown",
   "metadata": {},
   "source": [
    "## Strings (str)\n",
    "- are sequences of characters\n",
    "- written in double quotes or single quotes\n",
    "- immutable (cannot be changed)\n",
    "- used to represent text"
   ]
  },
  {
   "cell_type": "code",
   "execution_count": 10,
   "metadata": {},
   "outputs": [
    {
     "name": "stdout",
     "output_type": "stream",
     "text": [
      "john\n"
     ]
    }
   ],
   "source": [
    "name = \"john\"\n",
    "print(name)"
   ]
  },
  {
   "cell_type": "code",
   "execution_count": 12,
   "metadata": {},
   "outputs": [
    {
     "name": "stdout",
     "output_type": "stream",
     "text": [
      "john Doe Doe\n"
     ]
    }
   ],
   "source": [
    "# add (concatenate) \" Doe\" to \"john\"\n",
    "name += \" Doe\"\n",
    "print(name)"
   ]
  },
  {
   "cell_type": "code",
   "execution_count": 13,
   "metadata": {},
   "outputs": [
    {
     "name": "stdout",
     "output_type": "stream",
     "text": [
      "Hi Hi Hi \n"
     ]
    }
   ],
   "source": [
    "# print \"Hi \" 3 times as a single string\n",
    "print(\"Hi \" * 3)"
   ]
  },
  {
   "cell_type": "code",
   "execution_count": null,
   "metadata": {},
   "outputs": [
    {
     "ename": "TypeError",
     "evalue": "unsupported operand type(s) for +: 'int' and 'str'",
     "output_type": "error",
     "traceback": [
      "\u001b[0;31m---------------------------------------------------------------------------\u001b[0m",
      "\u001b[0;31mTypeError\u001b[0m                                 Traceback (most recent call last)",
      "Cell \u001b[0;32mIn[14], line 2\u001b[0m\n\u001b[1;32m      1\u001b[0m \u001b[38;5;66;03m# generates and error\u001b[39;00m\n\u001b[0;32m----> 2\u001b[0m \u001b[38;5;28mprint\u001b[39m(\u001b[38;5;241;43m3\u001b[39;49m\u001b[43m \u001b[49m\u001b[38;5;241;43m+\u001b[39;49m\u001b[43m \u001b[49m\u001b[38;5;124;43m\"\u001b[39;49m\u001b[38;5;124;43mhello\u001b[39;49m\u001b[38;5;124;43m\"\u001b[39;49m)\n",
      "\u001b[0;31mTypeError\u001b[0m: unsupported operand type(s) for +: 'int' and 'str'"
     ]
    }
   ],
   "source": [
    "# generates an error\n",
    "print(3 + \"hello\")"
   ]
  },
  {
   "cell_type": "code",
   "execution_count": null,
   "metadata": {},
   "outputs": [],
   "source": [
    "# generates an error\n",
    "print(\"hi\" * 'hi')"
   ]
  },
  {
   "cell_type": "markdown",
   "metadata": {},
   "source": [
    "error message does not mean you are a bad programmer\n",
    "instead it means the computer can't understand your code\n",
    "use errors to help yourself learn and grow"
   ]
  },
  {
   "cell_type": "markdown",
   "metadata": {},
   "source": [
    "strings can be enclosed between single `'name'`or double `\"name\"`or triple `\"\"\"name\"\"\"`quotes to denote that is a string\n",
    "is the string we are trying to print is a multiline string or has `'` or `\"` in it then we need to use triple quotes"
   ]
  },
  {
   "cell_type": "code",
   "execution_count": null,
   "metadata": {},
   "outputs": [],
   "source": [
    "person = 'amy'\n",
    "para = \"\"\"amy's car \"bmw\" is new\"\"\"\n",
    "para"
   ]
  },
  {
   "cell_type": "markdown",
   "metadata": {},
   "source": [
    "triple quotes can be used as a way to denote documenations. you can find them in the beginning of the file or in the beginning of a function.\n",
    "for example, the numpy library uses triple quotes to document functions and files (modules). see [here](https://github.com/numpy/numpy/blob/main/numpy/__init__.py)."
   ]
  },
  {
   "cell_type": "code",
   "execution_count": 25,
   "metadata": {},
   "outputs": [
    {
     "data": {
      "text/plain": [
       "\"\\n    This is the doc string of this module (file/package)\\n    It's used to describe the functionality (usage) of the module,\\n    and provide detailed descriptions of code for users\\n\\n    this doc string is often processed by developers tools like Sphinx to generate documentation\\n    for more information see: https://www.datacamp.com/tutorial/docstrings-python\\n    and https://www.python.org/dev/peps/pep-0257/\\n\\n    while comments are used in general to explain context and provide background\\n    for a specific block of code, docstrings are used to document the entire module\\n    function, or class (user-defined data type)\\n\\n    documentation includes use cases, parameters, and return values\\n\\n    comments can be used also as a way to disable sections of code\\n    so that they are not executed by the interpreter when the program is run\\n\\n    the interpreter is a program that reads your python code and executes it\\n    by translating it into machine code (zeros and ones '001001110') and running it\\n    line by line in real-time.\\n\""
      ]
     },
     "execution_count": 25,
     "metadata": {},
     "output_type": "execute_result"
    }
   ],
   "source": [
    "\"\"\"\n",
    "    This is the doc string of this module (file/package)\n",
    "    It's used to describe the functionality (usage) of the module,\n",
    "    and provide detailed descriptions of code for users\n",
    "\n",
    "    this doc string is often processed by developers tools like Sphinx to generate documentation\n",
    "    for more information see: https://www.datacamp.com/tutorial/docstrings-python\n",
    "    and https://www.python.org/dev/peps/pep-0257/\n",
    "\n",
    "    while comments are used in general to explain context and provide background\n",
    "    for a specific block of code, docstrings are used to document the entire module\n",
    "    function, or class (user-defined data type)\n",
    "\n",
    "    documentation includes use cases, parameters, and return values\n",
    "\n",
    "    comments can be used also as a way to disable sections of code\n",
    "    so that they are not executed by the interpreter when the program is run\n",
    "\n",
    "    the interpreter is a program that reads your python code and executes it\n",
    "    by translating it into machine code (zeros and ones '001001110') and running it\n",
    "    line by line in real-time.\n",
    "\"\"\""
   ]
  },
  {
   "cell_type": "markdown",
   "metadata": {},
   "source": [
    "## Floating point numbers (float)\n",
    "\n",
    "- are real numbers\n",
    "- they are written with decimal points\n",
    "- they are used to represent numbers with decimal places\n",
    "- float (floating point) values"
   ]
  },
  {
   "cell_type": "code",
   "execution_count": 15,
   "metadata": {},
   "outputs": [
    {
     "name": "stdout",
     "output_type": "stream",
     "text": [
      "3.14159\n"
     ]
    }
   ],
   "source": [
    "pi = 3.14159\n",
    "print(pi)"
   ]
  },
  {
   "cell_type": "code",
   "execution_count": null,
   "metadata": {},
   "outputs": [],
   "source": [
    "r = 5\n",
    "cim = 2 * pi * r\n",
    "area = pi * (r**2)\n",
    "print(cim, area)"
   ]
  },
  {
   "cell_type": "markdown",
   "metadata": {},
   "source": [
    "# Complex numbers\n",
    "\n",
    "- written with the j symbol\n",
    "- used to represent complex numbers"
   ]
  },
  {
   "cell_type": "code",
   "execution_count": 17,
   "metadata": {},
   "outputs": [
    {
     "name": "stdout",
     "output_type": "stream",
     "text": [
      "(2+3j)\n"
     ]
    }
   ],
   "source": [
    "complex_number = 2 + 3j\n",
    "print(complex_number)"
   ]
  },
  {
   "cell_type": "code",
   "execution_count": null,
   "metadata": {},
   "outputs": [],
   "source": [
    "complex_number = 2 + 3j\n",
    "other_complex = 1 + 4j\n",
    "print(complex_number + other_complex)"
   ]
  },
  {
   "cell_type": "markdown",
   "metadata": {},
   "source": [
    "# Boolean Types\n",
    "\n",
    "- used primarily for conditional statements (if, elif, else statements)\n",
    "- values are either True or False"
   ]
  },
  {
   "cell_type": "code",
   "execution_count": 18,
   "metadata": {},
   "outputs": [
    {
     "name": "stdout",
     "output_type": "stream",
     "text": [
      "It's raining outside\n"
     ]
    }
   ],
   "source": [
    "is_raining = True\n",
    "if is_raining:\n",
    "    print(\"It's raining outside\")\n",
    "else:\n",
    "    print(\"It's not raining outside\")"
   ]
  },
  {
   "cell_type": "markdown",
   "metadata": {},
   "source": [
    "as there is binary operators for int and float data types like +, -, *, /, //, %, ** used to do arithmitic operations\n",
    "\n",
    "there is aslo conditional operators like ==, !=, >, <, >=, <=, and, or, not used to do boolean operations on values of boolean data types"
   ]
  },
  {
   "cell_type": "code",
   "execution_count": 19,
   "metadata": {},
   "outputs": [
    {
     "name": "stdout",
     "output_type": "stream",
     "text": [
      "It's not cloudy or raining outside\n"
     ]
    }
   ],
   "source": [
    "is_cloudy = False\n",
    "if is_cloudy and is_raining:\n",
    "    print(\"It's cloudy and raining outside\")\n",
    "else:\n",
    "    print(\"It's not cloudy or raining outside\")"
   ]
  },
  {
   "cell_type": "code",
   "execution_count": 20,
   "metadata": {},
   "outputs": [
    {
     "name": "stdout",
     "output_type": "stream",
     "text": [
      "True\n",
      "False\n",
      "False\n"
     ]
    }
   ],
   "source": [
    "print(15 == 15)\n",
    "print(10 < 3)\n",
    "print(10 <= 3)"
   ]
  },
  {
   "cell_type": "markdown",
   "metadata": {},
   "source": [
    "### Boolean short circuting\n",
    "\n",
    "when we are using the `or` operator in a conditional statement\n",
    "- if the first expression evaluates to true, the second expression is not evaluated and `True` is returned\n",
    "- if the first expression evaluates to false, the second expression is evaluated and the result is returned\n",
    "\n",
    "this is known as short circuting. the opposite behaviour happens with `and` operator\n",
    "- if the first expression evaluates to true, the second expression is evaluated and the result is returned\n",
    "- if the first expression evaluates to false, the second expression is not evaluated and `False` is returned"
   ]
  },
  {
   "cell_type": "code",
   "execution_count": null,
   "metadata": {},
   "outputs": [],
   "source": [
    "print(True or 5)\n",
    "print(False or 5)"
   ]
  },
  {
   "cell_type": "code",
   "execution_count": null,
   "metadata": {},
   "outputs": [],
   "source": [
    "print(True and 5)\n",
    "print(False and 5)"
   ]
  },
  {
   "cell_type": "markdown",
   "metadata": {},
   "source": [
    "# None Type\n",
    "\n",
    "- used to represent the absence of a value\n",
    "- used to represent the absence of a variable"
   ]
  },
  {
   "cell_type": "code",
   "execution_count": 22,
   "metadata": {},
   "outputs": [
    {
     "name": "stdout",
     "output_type": "stream",
     "text": [
      "None\n"
     ]
    }
   ],
   "source": [
    "x = None\n",
    "print(x)"
   ]
  },
  {
   "cell_type": "markdown",
   "metadata": {},
   "source": [
    "setting a variable to `None` can be used to dereference a variable. meaning that the variable is no longer pointing to any value"
   ]
  },
  {
   "cell_type": "code",
   "execution_count": null,
   "metadata": {},
   "outputs": [],
   "source": [
    "first_list = [1, 2, 3]\n",
    "second_list = first_list\n",
    "first_list = None\n",
    "\n",
    "print(first_list)\n",
    "print(second_list)"
   ]
  },
  {
   "cell_type": "markdown",
   "metadata": {},
   "source": [
    "## Type annotations\n",
    "\n",
    "in python, we can still indicate the type of the value inside our variable using type annotations\n"
   ]
  },
  {
   "cell_type": "code",
   "execution_count": 23,
   "metadata": {},
   "outputs": [
    {
     "name": "stdout",
     "output_type": "stream",
     "text": [
      "5\n"
     ]
    }
   ],
   "source": [
    "x: int = 5\n",
    "print(x)"
   ]
  },
  {
   "cell_type": "markdown",
   "metadata": {},
   "source": [
    "but it will not generate errors when we assigned the variable a different type"
   ]
  },
  {
   "cell_type": "code",
   "execution_count": 24,
   "metadata": {},
   "outputs": [
    {
     "name": "stdout",
     "output_type": "stream",
     "text": [
      "hi\n"
     ]
    }
   ],
   "source": [
    "x = \"hi\"\n",
    "print(x)"
   ]
  },
  {
   "cell_type": "code",
   "execution_count": null,
   "metadata": {},
   "outputs": [],
   "source": []
  }
 ],
 "metadata": {
  "kernelspec": {
   "display_name": "Python 3",
   "language": "python",
   "name": "python3"
  },
  "language_info": {
   "codemirror_mode": {
    "name": "ipython",
    "version": 3
   },
   "file_extension": ".py",
   "mimetype": "text/x-python",
   "name": "python",
   "nbconvert_exporter": "python",
   "pygments_lexer": "ipython3",
   "version": "3.12.1"
  }
 },
 "nbformat": 4,
 "nbformat_minor": 2
}
